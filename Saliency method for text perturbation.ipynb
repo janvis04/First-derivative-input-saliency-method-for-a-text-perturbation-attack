{
  "nbformat": 4,
  "nbformat_minor": 0,
  "metadata": {
    "colab": {
      "name": "EMNN_1.ipynb",
      "provenance": [],
      "collapsed_sections": []
    },
    "kernelspec": {
      "name": "python3",
      "display_name": "Python 3"
    },
    "language_info": {
      "name": "python"
    },
    "accelerator": "GPU"
  },
  "cells": [
    {
      "cell_type": "markdown",
      "metadata": {
        "id": "y-FioAIIGwhg"
      },
      "source": [
        "##**First-Derivative Saliency (Explainability) Method for a Text PerturbationAttack**\n",
        "### Explainability Methods for Neural Networks - WS 2020/2021###\n",
        "**Janaki Viswanathan - 2581499**\n",
        "\n",
        "---\n",
        "\n"
      ]
    },
    {
      "cell_type": "code",
      "metadata": {
        "colab": {
          "base_uri": "https://localhost:8080/"
        },
        "id": "WbwooXOuzLSL",
        "outputId": "11ccfb7c-5829-4347-fb87-404ad604f2cd"
      },
      "source": [
        "# Loading required packages\n",
        "import nltk\n",
        "from nltk.corpus import stopwords\n",
        "nltk.download('stopwords')\n",
        "\n",
        "import gensim.downloader as api\n",
        "\n",
        "import torch\n",
        "from torchtext.legacy import data\n",
        "from torchtext.legacy import datasets\n",
        "import torch.nn as nn\n",
        "import torch.optim as optim\n",
        "from torchtext.data.utils import get_tokenizer\n",
        "\n",
        "import sys\n",
        "import random \n",
        "import spacy\n",
        "import string\n",
        "import matplotlib.pyplot as plt\n",
        "import numpy as np\n",
        "import time"
      ],
      "execution_count": 1,
      "outputs": [
        {
          "output_type": "stream",
          "text": [
            "[nltk_data] Downloading package stopwords to /root/nltk_data...\n",
            "[nltk_data]   Unzipping corpora/stopwords.zip.\n"
          ],
          "name": "stdout"
        }
      ]
    },
    {
      "cell_type": "code",
      "metadata": {
        "id": "KrHfGl_0Dlmb"
      },
      "source": [
        "# Defining data fields for pre-processing\n",
        "# Tokenizer : spaCy\n",
        "# Case      : lower\n",
        "\n",
        "SEED = 31321\n",
        "\n",
        "torch.manual_seed(SEED)\n",
        "torch.backends.cudnn.deterministic = True\n",
        "device = torch.device('cuda' if torch.cuda.is_available() else 'cpu')\n",
        "\n",
        "TEXT = data.Field(tokenize = 'spacy', include_lengths = True, lower=True)\n",
        "LABEL = data.LabelField(dtype = torch.float)"
      ],
      "execution_count": 2,
      "outputs": []
    },
    {
      "cell_type": "code",
      "metadata": {
        "colab": {
          "base_uri": "https://localhost:8080/"
        },
        "id": "u2W1CPxmG2BD",
        "outputId": "2dd5f670-f679-434c-d45e-07267e8f59e5"
      },
      "source": [
        "# Loading Train and Test sets\n",
        "train_data, test_data = datasets.IMDB.splits(TEXT, LABEL)\n",
        "\n",
        "# Creating a Validation set from the Train set\n",
        "train_data, valid_data = train_data.split(random_state = random.seed(SEED), split_ratio=0.7)\n",
        "\n",
        "print(f'Number of training examples: {len(train_data)}') # 17500\n",
        "print(f'Number of validation examples: {len(valid_data)}') # 7500\n",
        "print(f'Number of testing examples: {len(test_data)}') # 25000"
      ],
      "execution_count": 3,
      "outputs": [
        {
          "output_type": "stream",
          "text": [
            "aclImdb_v1.tar.gz:   0%|          | 115k/84.1M [00:00<01:15, 1.11MB/s]"
          ],
          "name": "stderr"
        },
        {
          "output_type": "stream",
          "text": [
            "downloading aclImdb_v1.tar.gz\n"
          ],
          "name": "stdout"
        },
        {
          "output_type": "stream",
          "text": [
            "aclImdb_v1.tar.gz: 100%|██████████| 84.1M/84.1M [00:01<00:00, 55.8MB/s]\n"
          ],
          "name": "stderr"
        },
        {
          "output_type": "stream",
          "text": [
            "Number of training examples: 17500\n",
            "Number of validation examples: 7500\n",
            "Number of testing examples: 25000\n"
          ],
          "name": "stdout"
        }
      ]
    },
    {
      "cell_type": "code",
      "metadata": {
        "id": "YKnjGPR-Hgfn",
        "colab": {
          "base_uri": "https://localhost:8080/"
        },
        "outputId": "5346df52-bd25-42d0-cb38-b5c299fcc648"
      },
      "source": [
        "# Building vocabulary for the train set based on pre-trained GloVe embeddings\n",
        "# Pre-trained word embedding : GloVe with 6 billion tokens and 100 dimensional vectors\n",
        "# Unknown tokens             : initialised using normal distribution\n",
        "\n",
        "MAX_VOCAB_SIZE = 25000\n",
        "\n",
        "TEXT.build_vocab(train_data, \n",
        "                 max_size = MAX_VOCAB_SIZE, \n",
        "                 vectors = \"glove.6B.100d\", \n",
        "                 unk_init = torch.Tensor.normal_) \n",
        "LABEL.build_vocab(train_data)"
      ],
      "execution_count": 4,
      "outputs": [
        {
          "output_type": "stream",
          "text": [
            ".vector_cache/glove.6B.zip: 862MB [02:40, 5.37MB/s]                           \n",
            "100%|█████████▉| 399995/400000 [00:20<00:00, 19221.61it/s]"
          ],
          "name": "stderr"
        }
      ]
    },
    {
      "cell_type": "code",
      "metadata": {
        "id": "KPD2kERrJzLM"
      },
      "source": [
        "# Building iterators\n",
        "# Batch size  : 64\n",
        "\n",
        "BATCH_SIZE = 64\n",
        "\n",
        "train_iterator, valid_iterator, test_iterator = data.BucketIterator.splits(\n",
        "    (train_data, valid_data, test_data), \n",
        "    batch_size = BATCH_SIZE,\n",
        "    sort_within_batch = True,\n",
        "    device = device)"
      ],
      "execution_count": 5,
      "outputs": []
    },
    {
      "cell_type": "code",
      "metadata": {
        "id": "g48HEiIYKnrQ"
      },
      "source": [
        "# Model architecture\n",
        "# 1st layer   : biLSTM\n",
        "# 2nd layer   : biLSTM\n",
        "# 3rd layer   : dense linear layer\n",
        "# Regularizer : Dropout\n",
        "\n",
        "class RNN(nn.Module):\n",
        "    def __init__(self, vocab_size, embedding_dim, hidden_dim, output_dim, n_layers, \n",
        "                 bidirectional, dropout, pad_idx):\n",
        "        super().__init__()\n",
        "        \n",
        "        # LSTM layer\n",
        "        self.rnn = nn.LSTM(embedding_dim, \n",
        "                           hidden_dim, \n",
        "                           num_layers=n_layers, \n",
        "                           bidirectional=bidirectional, \n",
        "                           dropout=dropout)\n",
        "        # dense layer\n",
        "        self.fc = nn.Linear(hidden_dim * 2, output_dim)\n",
        "        # dropout\n",
        "        self.dropout = nn.Dropout(dropout)\n",
        "        \n",
        "    def forward(self, text, text_lengths):\n",
        "        embedded = self.dropout(text)\n",
        "        # packed sequence\n",
        "        packed_embedded = nn.utils.rnn.pack_padded_sequence(embedded, text_lengths.to('cpu'))\n",
        "        packed_output, (hidden, cell) = self.rnn(packed_embedded)\n",
        "        output, output_lengths = nn.utils.rnn.pad_packed_sequence(packed_output)\n",
        "        hidden = self.dropout(torch.cat((hidden[-2,:,:], hidden[-1,:,:]), dim = 1))\n",
        "\n",
        "        return self.fc(hidden)"
      ],
      "execution_count": 6,
      "outputs": []
    },
    {
      "cell_type": "code",
      "metadata": {
        "id": "zdZr-CQDLLUu"
      },
      "source": [
        "# The model\n",
        "INPUT_DIM = len(TEXT.vocab)\n",
        "EMBEDDING_DIM = 100\n",
        "HIDDEN_DIM = 256\n",
        "OUTPUT_DIM = 1\n",
        "N_LAYERS = 2\n",
        "BIDIRECTIONAL = True\n",
        "DROPOUT = 0.5\n",
        "PAD_IDX = TEXT.vocab.stoi[TEXT.pad_token]\n",
        "\n",
        "model = RNN(INPUT_DIM, \n",
        "            EMBEDDING_DIM, \n",
        "            HIDDEN_DIM, \n",
        "            OUTPUT_DIM, \n",
        "            N_LAYERS, \n",
        "            BIDIRECTIONAL, \n",
        "            DROPOUT, \n",
        "            PAD_IDX)"
      ],
      "execution_count": 7,
      "outputs": []
    },
    {
      "cell_type": "code",
      "metadata": {
        "id": "Kk9on8aiAAYX"
      },
      "source": [
        "# Pre-trained word embeddings\n",
        "pretrained_embedding = TEXT.vocab.vectors  # [25002, 100]\n",
        "# Initialising the pad an unk tokens to zero vectors\n",
        "TEXT.vocab.vectors[0] = TEXT.vocab.vectors[1] = torch.zeros(EMBEDDING_DIM)\n",
        "\n",
        "# Embedding layer\n",
        "embed = nn.Embedding(INPUT_DIM, EMBEDDING_DIM, padding_idx=PAD_IDX).to(device)\n",
        "#embed.weight.data.copy_(pretrained_embedding)"
      ],
      "execution_count": 8,
      "outputs": []
    },
    {
      "cell_type": "code",
      "metadata": {
        "id": "4nByRmp9gBow"
      },
      "source": [
        "# Initialising the pad an unk tokens to zero vectors\n",
        "UNK_IDX = TEXT.vocab.stoi[TEXT.unk_token]\n",
        "embed.weight.data[PAD_IDX] = torch.zeros(EMBEDDING_DIM)\n",
        "embed.weight.data[UNK_IDX] = torch.zeros(EMBEDDING_DIM)"
      ],
      "execution_count": 9,
      "outputs": []
    },
    {
      "cell_type": "code",
      "metadata": {
        "id": "3G1dQso4LuKC"
      },
      "source": [
        "# Optimizer and Criterion\n",
        "# Optimizer : Adam optimizer\n",
        "# Criterion : Binary cross entropy loss on a sigmoid bounded output\n",
        "\n",
        "optimizer = optim.Adam(model.parameters())\n",
        "criterion = nn.BCEWithLogitsLoss()\n",
        "\n",
        "model = model.to(device)\n",
        "criterion = criterion.to(device)"
      ],
      "execution_count": 10,
      "outputs": []
    },
    {
      "cell_type": "code",
      "metadata": {
        "id": "fvqxTaFQL1Nd"
      },
      "source": [
        "# Accuracy\n",
        "def binary_accuracy(preds, y):\n",
        "    \"\"\"\n",
        "    Returns accuracy per batch, i.e. if you get 8/10 right, this returns 0.8, NOT 8\n",
        "    \"\"\"\n",
        "    rounded_preds = torch.round(torch.sigmoid(preds))\n",
        "    correct = (rounded_preds == y).float() \n",
        "    acc = correct.sum() / len(correct)\n",
        "    return acc"
      ],
      "execution_count": 11,
      "outputs": []
    },
    {
      "cell_type": "code",
      "metadata": {
        "id": "lhr7WpzNL6In"
      },
      "source": [
        "# Train\n",
        "def train(model, iterator, optimizer, criterion):\n",
        "    \n",
        "    epoch_loss = 0\n",
        "    epoch_acc = 0\n",
        "    \n",
        "    model.train()\n",
        "    \n",
        "    for batch in iterator:\n",
        "        optimizer.zero_grad()\n",
        "        raw_text, text_lengths = batch.text\n",
        "        text = torch.tensor(embed(raw_text), requires_grad=False)\n",
        "        \n",
        "        predictions = model(text, text_lengths).squeeze(1)\n",
        "        \n",
        "        loss = criterion(predictions, batch.label)\n",
        "        acc = binary_accuracy(predictions, batch.label)\n",
        "        \n",
        "        loss.backward()\n",
        "        optimizer.step()\n",
        "        \n",
        "        epoch_loss += loss.item()\n",
        "        epoch_acc += acc.item()\n",
        "        \n",
        "    return epoch_loss / len(iterator), epoch_acc / len(iterator)"
      ],
      "execution_count": 12,
      "outputs": []
    },
    {
      "cell_type": "code",
      "metadata": {
        "id": "aHyVp3RoL8YQ"
      },
      "source": [
        "# Evaluation\n",
        "def evaluate(model, iterator, criterion):\n",
        "    \n",
        "    epoch_loss = 0\n",
        "    epoch_acc = 0\n",
        "    \n",
        "    model.eval()\n",
        "    \n",
        "    with torch.no_grad():\n",
        "    \n",
        "        for batch in iterator:\n",
        "\n",
        "            raw_text, text_lengths = batch.text\n",
        "            text = torch.tensor(embed(raw_text), requires_grad=False)\n",
        "            predictions = model(text, text_lengths).squeeze(1)\n",
        "\n",
        "            loss = criterion(predictions, batch.label)\n",
        "            acc = binary_accuracy(predictions, batch.label)\n",
        "\n",
        "            epoch_loss += loss.item()\n",
        "            epoch_acc += acc.item()\n",
        "        \n",
        "    return epoch_loss / len(iterator), epoch_acc / len(iterator)"
      ],
      "execution_count": 13,
      "outputs": []
    },
    {
      "cell_type": "code",
      "metadata": {
        "id": "erKQwBBiMA4S"
      },
      "source": [
        "# Logging the time for each epoch\n",
        "def epoch_time(start_time, end_time):\n",
        "    elapsed_time = end_time - start_time\n",
        "    elapsed_mins = int(elapsed_time / 60)\n",
        "    elapsed_secs = int(elapsed_time - (elapsed_mins * 60))\n",
        "    return elapsed_mins, elapsed_secs"
      ],
      "execution_count": 14,
      "outputs": []
    },
    {
      "cell_type": "code",
      "metadata": {
        "colab": {
          "base_uri": "https://localhost:8080/"
        },
        "id": "8qINMZ33MHYg",
        "outputId": "71a244ab-8889-4e03-ce89-e577be66ac9c"
      },
      "source": [
        "# Training the model\n",
        "N_EPOCHS = 5\n",
        "best_valid_loss = float('inf')\n",
        "\n",
        "train_loss_list = []\n",
        "valid_loss_list = []\n",
        "train_acc_list  = []\n",
        "valid_acc_list  = []\n",
        "\n",
        "for epoch in range(N_EPOCHS):\n",
        "    start_time = time.time()\n",
        "    train_loss, train_acc = train(model, train_iterator, optimizer, criterion)\n",
        "    valid_loss, valid_acc = evaluate(model, valid_iterator, criterion)\n",
        "    end_time = time.time()\n",
        "    \n",
        "    train_loss_list.append(train_loss)\n",
        "    valid_loss_list.append(valid_loss)\n",
        "    train_acc_list.append(train_acc)\n",
        "    valid_acc_list.append(valid_acc)\n",
        "\n",
        "    epoch_mins, epoch_secs = epoch_time(start_time, end_time)\n",
        "    \n",
        "    if valid_loss < best_valid_loss:\n",
        "        best_valid_loss = valid_loss\n",
        "        torch.save(model.state_dict(), 'base-model.pt')\n",
        "    \n",
        "    print(f'Epoch: {epoch+1:02} | Epoch Time: {epoch_mins}m {epoch_secs}s')\n",
        "    print(f'\\tTrain Loss: {train_loss:.3f} | Train Acc: {train_acc*100:.2f}%')\n",
        "    print(f'\\t Val. Loss: {valid_loss:.3f} |  Val. Acc: {valid_acc*100:.2f}%')"
      ],
      "execution_count": 35,
      "outputs": [
        {
          "output_type": "stream",
          "text": [
            "/usr/local/lib/python3.7/dist-packages/ipykernel_launcher.py:12: UserWarning: To copy construct from a tensor, it is recommended to use sourceTensor.clone().detach() or sourceTensor.clone().detach().requires_grad_(True), rather than torch.tensor(sourceTensor).\n",
            "  if sys.path[0] == '':\n",
            "/usr/local/lib/python3.7/dist-packages/ipykernel_launcher.py:14: UserWarning: To copy construct from a tensor, it is recommended to use sourceTensor.clone().detach() or sourceTensor.clone().detach().requires_grad_(True), rather than torch.tensor(sourceTensor).\n",
            "  \n"
          ],
          "name": "stderr"
        },
        {
          "output_type": "stream",
          "text": [
            "Epoch: 01 | Epoch Time: 0m 43s\n",
            "\tTrain Loss: 0.696 | Train Acc: 51.64%\n",
            "\t Val. Loss: 0.689 |  Val. Acc: 51.44%\n",
            "Epoch: 02 | Epoch Time: 0m 43s\n",
            "\tTrain Loss: 0.690 | Train Acc: 53.31%\n",
            "\t Val. Loss: 0.685 |  Val. Acc: 52.13%\n",
            "Epoch: 03 | Epoch Time: 0m 42s\n",
            "\tTrain Loss: 0.676 | Train Acc: 57.19%\n",
            "\t Val. Loss: 0.614 |  Val. Acc: 67.61%\n",
            "Epoch: 04 | Epoch Time: 0m 43s\n",
            "\tTrain Loss: 0.620 | Train Acc: 66.00%\n",
            "\t Val. Loss: 0.579 |  Val. Acc: 70.98%\n",
            "Epoch: 05 | Epoch Time: 0m 43s\n",
            "\tTrain Loss: 0.570 | Train Acc: 70.58%\n",
            "\t Val. Loss: 0.552 |  Val. Acc: 72.16%\n"
          ],
          "name": "stdout"
        }
      ]
    },
    {
      "cell_type": "code",
      "metadata": {
        "id": "lUent4nbweFt"
      },
      "source": [
        "# Plotting \n",
        "# Plot for losses\n",
        "def plot_loss(plt, train_loss, test_loss, xtick_num=2):\n",
        "    n_iter = len(train_loss)\n",
        "    iterations = [n+1 for n in range(n_iter)]\n",
        "    plt.plot(iterations, train_loss, label='Train loss')\n",
        "    plt.plot(iterations, test_loss,  label='Valid loss')\n",
        "    plt.set_xlabel('Epochs')\n",
        "    plt.set_xticks([n+1 for n in range(0, len(iterations), xtick_num)])\n",
        "    plt.set_ylabel('Loss')\n",
        "    #plt.title(\"Train and Validation loss across epochs\")\n",
        "    plt.legend();\n",
        "\n",
        "# Plot for accuracy\n",
        "def plot_accuracy(plt, train_acc, test_acc, xtick_num=2):\n",
        "    n_iter = len(train_acc)\n",
        "    iterations = [n+1 for n in range(n_iter)]\n",
        "    plt.plot(iterations, train_acc, label='Train acc')\n",
        "    plt.plot(iterations, test_acc,  label='Valid acc')\n",
        "    plt.set_xlabel('Epochs')\n",
        "    plt.set_xticks([n+1 for n in range(0, len(iterations), xtick_num)])\n",
        "    plt.set_ylabel('Accuracy')\n",
        "    #plt.title(\"Train and Validation accuracy across epochs\")\n",
        "    plt.legend();"
      ],
      "execution_count": 34,
      "outputs": []
    },
    {
      "cell_type": "code",
      "metadata": {
        "colab": {
          "base_uri": "https://localhost:8080/",
          "height": 350
        },
        "id": "cL6fhSxLxA-L",
        "outputId": "4a82943a-b006-4529-f35b-542592c0f19c"
      },
      "source": [
        "# Plotting accuracy and loss for train and validation sets\n",
        "fig, (ax0, ax1) = plt.subplots(1, 2)\n",
        "fig.set_size_inches((14, 5))\n",
        "ax0.set_title(\"Train and Validation loss across epochs\")\n",
        "ax1.set_title(\"Train and Validation accuracy across epochs\")\n",
        "plot_loss(ax0, train_loss_list, valid_loss_list)\n",
        "plot_accuracy(ax1, train_acc_list, valid_acc_list)"
      ],
      "execution_count": 17,
      "outputs": [
        {
          "output_type": "display_data",
          "data": {
            "image/png": "[encoded data removed]",
            "text/plain": [
              "<Figure size 1008x360 with 2 Axes>"
            ]
          },
          "metadata": {
            "tags": [],
            "needs_background": "light"
          }
        }
      ]
    },
    {
      "cell_type": "code",
      "metadata": {
        "colab": {
          "base_uri": "https://localhost:8080/"
        },
        "id": "FOHnv6LbMMag",
        "outputId": "826243c2-ecc7-46d8-b52f-c0315008af75"
      },
      "source": [
        "# Predicting on the test set\n",
        "model.load_state_dict(torch.load('base-model.pt'))\n",
        "test_loss, test_acc = evaluate(model, test_iterator, criterion)\n",
        "print(f'Test Loss: {test_loss:.3f} | Test Acc: {test_acc*100:.2f}%')"
      ],
      "execution_count": 36,
      "outputs": [
        {
          "output_type": "stream",
          "text": [
            "/usr/local/lib/python3.7/dist-packages/ipykernel_launcher.py:14: UserWarning: To copy construct from a tensor, it is recommended to use sourceTensor.clone().detach() or sourceTensor.clone().detach().requires_grad_(True), rather than torch.tensor(sourceTensor).\n",
            "  \n"
          ],
          "name": "stderr"
        },
        {
          "output_type": "stream",
          "text": [
            "Test Loss: 0.546 | Test Acc: 72.42%\n"
          ],
          "name": "stdout"
        }
      ]
    },
    {
      "cell_type": "code",
      "metadata": {
        "id": "eskil3MyTkPU"
      },
      "source": [
        "# Prediction on an input text\n",
        "nlp = spacy.load('en')\n",
        "\n",
        "def predict_sentiment(model, sentence):\n",
        "    #sentence = sentence.lower()\n",
        "    tokenized = [tok.text for tok in nlp.tokenizer(sentence)]\n",
        "    indexed = [TEXT.vocab.stoi[t] for t in tokenized]\n",
        "    length = [len(indexed)]\n",
        "    tensor = torch.LongTensor(indexed).to(device)\n",
        "    tensor = tensor.unsqueeze(1)\n",
        "    length_tensor = torch.LongTensor(length)\n",
        "    embedded = torch.tensor(embed(tensor),requires_grad=False)\n",
        "    prediction = torch.sigmoid(model(embedded, length_tensor))\n",
        "    return prediction.item()"
      ],
      "execution_count": 19,
      "outputs": []
    },
    {
      "cell_type": "code",
      "metadata": {
        "id": "GjS0bfnAX2Rt"
      },
      "source": [
        "# Preprocessing the text to calculate input saliency\n",
        "embed = nn.Embedding(len(TEXT.vocab), EMBEDDING_DIM, padding_idx = PAD_IDX).to(device)\n",
        "\n",
        "def pre_process(sentence):\n",
        "    #sentence = sentence.lower()\n",
        "    tokenized = [tok.text for tok in nlp.tokenizer(sentence)]\n",
        "    indexed = [TEXT.vocab.stoi[t] for t in tokenized]\n",
        "    length = [len(indexed)]\n",
        "    length_tensor = torch.LongTensor(length)\n",
        "    tensor = torch.LongTensor(indexed).to(device)\n",
        "    tensor = tensor.unsqueeze(1) # seq_len * batch_size(1)\n",
        "    embedded = torch.tensor(embed(tensor),requires_grad=True) \n",
        "    return tokenized, embedded, length_tensor"
      ],
      "execution_count": 20,
      "outputs": []
    },
    {
      "cell_type": "code",
      "metadata": {
        "id": "RuADW5HnJVNS"
      },
      "source": [
        "# Input saliency\n",
        "def input_saliency(input_text, model):\n",
        "  print(f\"Input text:{input_text}\")\n",
        "  tokens, preprocessed_text, length_tensor = pre_process(input_text)\n",
        "  print(f\"Tokens:{tokens}\")\n",
        "\n",
        "  model.train()\n",
        "  model.dropout.eval()\n",
        "  scores = (model(preprocessed_text, length_tensor))\n",
        "  scores.backward()\n",
        "\n",
        "  saliency = preprocessed_text.grad.data.abs().squeeze()\n",
        "  saliency_list = saliency.detach().cpu().numpy()\n",
        "  #print(f\"Saliency_list:{saliency_list}\")\n",
        "  saliency_tok,_=torch.max(preprocessed_text.grad.data.abs(),dim=2)\n",
        "  \n",
        "  pred = predict_sentiment(model, input_text)\n",
        "  print(f\"Prediction:{pred}\")\n",
        "  print(f\"Saliency:{saliency_tok}\")\n",
        "  return tokens, preprocessed_text, saliency_tok, scores, saliency_list"
      ],
      "execution_count": 21,
      "outputs": []
    },
    {
      "cell_type": "code",
      "metadata": {
        "colab": {
          "base_uri": "https://localhost:8080/"
        },
        "id": "JwMCUVVcixJT",
        "outputId": "fd420414-4201-4b6e-dcc5-e994d2423cc6"
      },
      "source": [
        "# Loading GloVe vectors\n",
        "#glove_preTrained=api.load(\"glove-twitter-25\")\n",
        "glove_preTrained=api.load(\"glove-wiki-gigaword-50\")"
      ],
      "execution_count": 22,
      "outputs": [
        {
          "output_type": "stream",
          "text": [
            "[==================================================] 100.0% 66.0/66.0MB downloaded\n"
          ],
          "name": "stdout"
        }
      ]
    },
    {
      "cell_type": "code",
      "metadata": {
        "id": "-c-guu5Rdaqf"
      },
      "source": [
        "# Replacing important words with GloVe equivalent\n",
        "stop_words = stopwords.words('english')\n",
        "\n",
        "def glove_replace(input_text, saliency_dict):\n",
        "  list_len = len(saliency_dict)\n",
        "  tweaked_text = input_text\n",
        "\n",
        "  for i in range(list_len):\n",
        "    tok = saliency_dict[i][0]\n",
        "    if tok.lower() not in string.punctuation and tok.lower() not in stop_words:\n",
        "      gloveWord = glove_preTrained.most_similar(tok)[0]\n",
        "      print(f\"{tok} ---> {gloveWord}\")\n",
        "      tweaked_text = tweaked_text.replace(tok, gloveWord[0])\n",
        "  return tweaked_text"
      ],
      "execution_count": 23,
      "outputs": []
    },
    {
      "cell_type": "code",
      "metadata": {
        "colab": {
          "base_uri": "https://localhost:8080/"
        },
        "id": "yCX9Dz4NXtsk",
        "outputId": "4d1307c8-687a-44f2-8584-7331810f5790"
      },
      "source": [
        "# Input sentence\n",
        "#text = \"The movie is fantastic I really like it.\"\n",
        "#text = \"This film is absolutely appalling and awful. It's not low budget, it's a no budget film.\"\n",
        "text = \"This film is excellent\"\n",
        "#text = \"I hate the movie!\"\n",
        "#text = text = \"\"\"I wish I knew what to make of a movie like this. I must say that the scenes on the beach struck me as so stereotypical in so many ways. The film devolves into a succession of visual displays and not too much else. A disappointment.\"\"\"\n",
        "#text = \"This film is horrible!\"\n",
        "#text = \"This movie was sadly under-promoted but proved to be truly exceptional.\"\n",
        "#text = \"'how did this ever come  into existence ? The effects were sad, the lines were sadder. Avoid at all costs. The idea of the film is actually a good one. There was a lot of potential to make a great little movie here. I just don't understand how something like this ends up like this. Go speak to the film / arts / english interested students in any high school and you'll find people who can write a better script.'\"\n",
        "#model.to(device)\n",
        "#text = text.to(device)\n",
        "print(f\"Input text: {text}\")\n",
        "print(f\"Model prediction: {predict_sentiment(model, text)}\")"
      ],
      "execution_count": 37,
      "outputs": [
        {
          "output_type": "stream",
          "text": [
            "Input text: This film is excellent\n",
            "Model prediction: 0.7483808398246765\n"
          ],
          "name": "stdout"
        },
        {
          "output_type": "stream",
          "text": [
            "/usr/local/lib/python3.7/dist-packages/ipykernel_launcher.py:12: UserWarning: To copy construct from a tensor, it is recommended to use sourceTensor.clone().detach() or sourceTensor.clone().detach().requires_grad_(True), rather than torch.tensor(sourceTensor).\n",
            "  if sys.path[0] == '':\n"
          ],
          "name": "stderr"
        }
      ]
    },
    {
      "cell_type": "code",
      "metadata": {
        "colab": {
          "base_uri": "https://localhost:8080/"
        },
        "id": "q49K69bli_vT",
        "outputId": "6085ee5b-214f-478f-d045-b337f19eb8ba"
      },
      "source": [
        "# Calculating input saliency\n",
        "tokens, preprocessed_text, saliency, scores, saliency_list = input_saliency(text, model)"
      ],
      "execution_count": 44,
      "outputs": [
        {
          "output_type": "stream",
          "text": [
            "Input text:This film is excellent\n",
            "Tokens:['This', 'film', 'is', 'excellent']\n",
            "Prediction:0.7259778380393982\n",
            "Saliency:tensor([[0.0773],\n",
            "        [0.0949],\n",
            "        [0.1725],\n",
            "        [0.1944]], device='cuda:0')\n"
          ],
          "name": "stdout"
        },
        {
          "output_type": "stream",
          "text": [
            "/usr/local/lib/python3.7/dist-packages/ipykernel_launcher.py:12: UserWarning: To copy construct from a tensor, it is recommended to use sourceTensor.clone().detach() or sourceTensor.clone().detach().requires_grad_(True), rather than torch.tensor(sourceTensor).\n",
            "  if sys.path[0] == '':\n"
          ],
          "name": "stderr"
        }
      ]
    },
    {
      "cell_type": "code",
      "metadata": {
        "id": "cCCoTFAmo5Fr",
        "colab": {
          "base_uri": "https://localhost:8080/",
          "height": 336
        },
        "outputId": "355aebf2-03af-4d4c-cb18-a9127a5b140d"
      },
      "source": [
        "# Saliency heat map\n",
        "plt.switch_backend('agg')\n",
        "\n",
        "words = [tok.text for tok in nlp.tokenizer(text)]\n",
        "# Create the figure\n",
        "fig = plt.figure(figsize=(10, 5))\n",
        "# Set the sub-figure\n",
        "ax = fig.add_subplot(111)\n",
        "ax.set_aspect(aspect=2)\n",
        "im = plt.imshow(saliency_list, aspect='auto',interpolation='nearest', cmap=plt.cm.Blues)\n",
        "# Create colorbar\n",
        "cbar = ax.figure.colorbar(im, ax=ax)\n",
        "cbar.ax.set_ylabel(\"Saliency\", rotation=-90, va=\"bottom\")\n",
        "# Set ticks for axis\n",
        "ax.set_yticks(np.arange(len(words)))\n",
        "ax.set_xticks(np.arange(len(saliency_list[0]),step = 20))\n",
        "ax.set_yticklabels(words)\n",
        "ax.set_title(\"Saliency heatmap for the sentiment prediction\")\n",
        "plt.savefig( 'SaliencyHeatmap_'+text[0:50]+'.pdf', format='pdf')"
      ],
      "execution_count": 45,
      "outputs": [
        {
          "output_type": "display_data",
          "data": {
            "image/png": "[encoded data removed]",
            "text/plain": [
              "<Figure size 720x360 with 2 Axes>"
            ]
          },
          "metadata": {
            "tags": [],
            "needs_background": "light"
          }
        }
      ]
    },
    {
      "cell_type": "code",
      "metadata": {
        "colab": {
          "base_uri": "https://localhost:8080/"
        },
        "id": "ZwozZvOzYQOq",
        "outputId": "655d80a6-c705-45da-f90d-236926e6df5e"
      },
      "source": [
        "# Important words\n",
        "saliency_tok_list = saliency.tolist()\n",
        "saliency_dict = dict(zip(tokens,saliency_tok_list))\n",
        "saliency_dict = sorted(saliency_dict.items(), key=lambda item: item[1], reverse=True)\n",
        "saliency_dict"
      ],
      "execution_count": 27,
      "outputs": [
        {
          "output_type": "execute_result",
          "data": {
            "text/plain": [
              "[('is', [0.08372390270233154]),\n",
              " ('This', [0.08335263282060623]),\n",
              " ('film', [0.06710473448038101]),\n",
              " ('excellent', [0.06098489463329315])]"
            ]
          },
          "metadata": {
            "tags": []
          },
          "execution_count": 27
        }
      ]
    },
    {
      "cell_type": "code",
      "metadata": {
        "colab": {
          "base_uri": "https://localhost:8080/"
        },
        "id": "7EX9CQ-phCPS",
        "outputId": "7cf5d5ec-1343-4c63-a833-8433fbe5cfa4"
      },
      "source": [
        "gloveReplaced_text = glove_replace(text, saliency_dict)\n",
        "print(text)\n",
        "print(predict_sentiment(model, text))\n",
        "print(gloveReplaced_text)\n",
        "print(predict_sentiment(model, gloveReplaced_text))"
      ],
      "execution_count": 28,
      "outputs": [
        {
          "output_type": "stream",
          "text": [
            "film ---> ('movie', 0.9310100078582764)\n",
            "excellent ---> ('quality', 0.8557633757591248)\n",
            "This film is excellent\n",
            "0.312742680311203\n",
            "This movie is quality\n",
            "0.28564560413360596\n"
          ],
          "name": "stdout"
        },
        {
          "output_type": "stream",
          "text": [
            "/usr/local/lib/python3.7/dist-packages/ipykernel_launcher.py:12: UserWarning: To copy construct from a tensor, it is recommended to use sourceTensor.clone().detach() or sourceTensor.clone().detach().requires_grad_(True), rather than torch.tensor(sourceTensor).\n",
            "  if sys.path[0] == '':\n"
          ],
          "name": "stderr"
        }
      ]
    },
    {
      "cell_type": "code",
      "metadata": {
        "id": "nwUiUfP0HM2u"
      },
      "source": [
        "# REFERENCES:\n",
        "# https://github.com/bentrevett/pytorch-sentiment-analysis/blob/master/2%20-%20Upgraded%20Sentiment%20Analysis.ipynb\n",
        "# https://github.com/amdreamer/Machine-Learning-Programs/blob/master/l3-textClassification_embedOutOfModel.py"
      ],
      "execution_count": 29,
      "outputs": []
    }
  ]
}